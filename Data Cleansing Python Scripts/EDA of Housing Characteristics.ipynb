{
 "cells": [
  {
   "cell_type": "code",
   "execution_count": 96,
   "metadata": {},
   "outputs": [],
   "source": [
    "import pandas as pd"
   ]
  },
  {
   "cell_type": "code",
   "execution_count": 97,
   "metadata": {
    "scrolled": true
   },
   "outputs": [],
   "source": [
    "df = pd.read_csv('2021 Housing Data.csv', low_memory=False)"
   ]
  },
  {
   "cell_type": "code",
   "execution_count": 98,
   "metadata": {},
   "outputs": [],
   "source": [
    "r, c = df.shape"
   ]
  },
  {
   "cell_type": "code",
   "execution_count": 99,
   "metadata": {},
   "outputs": [
    {
     "data": {
      "text/plain": [
       "33774"
      ]
     },
     "execution_count": 99,
     "metadata": {},
     "output_type": "execute_result"
    }
   ],
   "source": [
    "r"
   ]
  },
  {
   "cell_type": "code",
   "execution_count": 100,
   "metadata": {},
   "outputs": [
    {
     "data": {
      "text/plain": [
       "1146"
      ]
     },
     "execution_count": 100,
     "metadata": {},
     "output_type": "execute_result"
    }
   ],
   "source": [
    "c"
   ]
  },
  {
   "cell_type": "code",
   "execution_count": 101,
   "metadata": {},
   "outputs": [
    {
     "data": {
      "text/html": [
       "<div>\n",
       "<style scoped>\n",
       "    .dataframe tbody tr th:only-of-type {\n",
       "        vertical-align: middle;\n",
       "    }\n",
       "\n",
       "    .dataframe tbody tr th {\n",
       "        vertical-align: top;\n",
       "    }\n",
       "\n",
       "    .dataframe thead th {\n",
       "        text-align: right;\n",
       "    }\n",
       "</style>\n",
       "<table border=\"1\" class=\"dataframe\">\n",
       "  <thead>\n",
       "    <tr style=\"text-align: right;\">\n",
       "      <th></th>\n",
       "      <th>Geography</th>\n",
       "      <th>Geographic Area Name</th>\n",
       "      <th>Estimate!!HOUSING OCCUPANCY!!Total housing units</th>\n",
       "      <th>Annotation of Estimate!!HOUSING OCCUPANCY!!Total housing units</th>\n",
       "      <th>Margin of Error!!HOUSING OCCUPANCY!!Total housing units</th>\n",
       "      <th>Annotation of Margin of Error!!HOUSING OCCUPANCY!!Total housing units</th>\n",
       "      <th>Estimate!!HOUSING OCCUPANCY!!Total housing units!!Occupied housing units</th>\n",
       "      <th>Margin of Error!!HOUSING OCCUPANCY!!Total housing units!!Occupied housing units</th>\n",
       "      <th>Annotation of Margin of Error!!HOUSING OCCUPANCY!!Total housing units!!Occupied housing units</th>\n",
       "      <th>Annotation of Estimate!!HOUSING OCCUPANCY!!Total housing units!!Occupied housing units</th>\n",
       "      <th>...</th>\n",
       "      <th>Annotation of Percent Margin of Error!!GROSS RENT AS A PERCENTAGE OF HOUSEHOLD INCOME (GRAPI)!!Occupied units paying rent (excluding units where GRAPI cannot be computed)!!30.0 to 34.9 percent</th>\n",
       "      <th>Annotation of Percent!!GROSS RENT AS A PERCENTAGE OF HOUSEHOLD INCOME (GRAPI)!!Occupied units paying rent (excluding units where GRAPI cannot be computed)!!30.0 to 34.9 percent</th>\n",
       "      <th>Percent!!GROSS RENT AS A PERCENTAGE OF HOUSEHOLD INCOME (GRAPI)!!Occupied units paying rent (excluding units where GRAPI cannot be computed)!!35.0 percent or more</th>\n",
       "      <th>Percent Margin of Error!!GROSS RENT AS A PERCENTAGE OF HOUSEHOLD INCOME (GRAPI)!!Occupied units paying rent (excluding units where GRAPI cannot be computed)!!35.0 percent or more</th>\n",
       "      <th>Annotation of Percent Margin of Error!!GROSS RENT AS A PERCENTAGE OF HOUSEHOLD INCOME (GRAPI)!!Occupied units paying rent (excluding units where GRAPI cannot be computed)!!35.0 percent or more</th>\n",
       "      <th>Annotation of Percent!!GROSS RENT AS A PERCENTAGE OF HOUSEHOLD INCOME (GRAPI)!!Occupied units paying rent (excluding units where GRAPI cannot be computed)!!35.0 percent or more</th>\n",
       "      <th>Percent!!GROSS RENT AS A PERCENTAGE OF HOUSEHOLD INCOME (GRAPI)!!Occupied units paying rent (excluding units where GRAPI cannot be computed)!!Not computed</th>\n",
       "      <th>Percent Margin of Error!!GROSS RENT AS A PERCENTAGE OF HOUSEHOLD INCOME (GRAPI)!!Occupied units paying rent (excluding units where GRAPI cannot be computed)!!Not computed</th>\n",
       "      <th>Annotation of Percent Margin of Error!!GROSS RENT AS A PERCENTAGE OF HOUSEHOLD INCOME (GRAPI)!!Occupied units paying rent (excluding units where GRAPI cannot be computed)!!Not computed</th>\n",
       "      <th>Annotation of Percent!!GROSS RENT AS A PERCENTAGE OF HOUSEHOLD INCOME (GRAPI)!!Occupied units paying rent (excluding units where GRAPI cannot be computed)!!Not computed</th>\n",
       "    </tr>\n",
       "  </thead>\n",
       "  <tbody>\n",
       "    <tr>\n",
       "      <th>0</th>\n",
       "      <td>860Z200US00601</td>\n",
       "      <td>ZCTA5 00601</td>\n",
       "      <td>7306</td>\n",
       "      <td>NaN</td>\n",
       "      <td>187</td>\n",
       "      <td>NaN</td>\n",
       "      <td>5397</td>\n",
       "      <td>264</td>\n",
       "      <td>NaN</td>\n",
       "      <td>NaN</td>\n",
       "      <td>...</td>\n",
       "      <td>NaN</td>\n",
       "      <td>NaN</td>\n",
       "      <td>39.6</td>\n",
       "      <td>10.7</td>\n",
       "      <td>NaN</td>\n",
       "      <td>NaN</td>\n",
       "      <td>(X)</td>\n",
       "      <td>(X)</td>\n",
       "      <td>(X)</td>\n",
       "      <td>(X)</td>\n",
       "    </tr>\n",
       "    <tr>\n",
       "      <th>1</th>\n",
       "      <td>860Z200US00602</td>\n",
       "      <td>ZCTA5 00602</td>\n",
       "      <td>17311</td>\n",
       "      <td>NaN</td>\n",
       "      <td>287</td>\n",
       "      <td>NaN</td>\n",
       "      <td>12858</td>\n",
       "      <td>448</td>\n",
       "      <td>NaN</td>\n",
       "      <td>NaN</td>\n",
       "      <td>...</td>\n",
       "      <td>NaN</td>\n",
       "      <td>NaN</td>\n",
       "      <td>40</td>\n",
       "      <td>10.8</td>\n",
       "      <td>NaN</td>\n",
       "      <td>NaN</td>\n",
       "      <td>(X)</td>\n",
       "      <td>(X)</td>\n",
       "      <td>(X)</td>\n",
       "      <td>(X)</td>\n",
       "    </tr>\n",
       "    <tr>\n",
       "      <th>2</th>\n",
       "      <td>860Z200US00603</td>\n",
       "      <td>ZCTA5 00603</td>\n",
       "      <td>24771</td>\n",
       "      <td>NaN</td>\n",
       "      <td>389</td>\n",
       "      <td>NaN</td>\n",
       "      <td>19295</td>\n",
       "      <td>555</td>\n",
       "      <td>NaN</td>\n",
       "      <td>NaN</td>\n",
       "      <td>...</td>\n",
       "      <td>NaN</td>\n",
       "      <td>NaN</td>\n",
       "      <td>34.3</td>\n",
       "      <td>5.7</td>\n",
       "      <td>NaN</td>\n",
       "      <td>NaN</td>\n",
       "      <td>(X)</td>\n",
       "      <td>(X)</td>\n",
       "      <td>(X)</td>\n",
       "      <td>(X)</td>\n",
       "    </tr>\n",
       "    <tr>\n",
       "      <th>3</th>\n",
       "      <td>860Z200US00606</td>\n",
       "      <td>ZCTA5 00606</td>\n",
       "      <td>2786</td>\n",
       "      <td>NaN</td>\n",
       "      <td>145</td>\n",
       "      <td>NaN</td>\n",
       "      <td>1968</td>\n",
       "      <td>171</td>\n",
       "      <td>NaN</td>\n",
       "      <td>NaN</td>\n",
       "      <td>...</td>\n",
       "      <td>NaN</td>\n",
       "      <td>NaN</td>\n",
       "      <td>23.8</td>\n",
       "      <td>20.9</td>\n",
       "      <td>NaN</td>\n",
       "      <td>NaN</td>\n",
       "      <td>(X)</td>\n",
       "      <td>(X)</td>\n",
       "      <td>(X)</td>\n",
       "      <td>(X)</td>\n",
       "    </tr>\n",
       "    <tr>\n",
       "      <th>4</th>\n",
       "      <td>860Z200US00610</td>\n",
       "      <td>ZCTA5 00610</td>\n",
       "      <td>12494</td>\n",
       "      <td>NaN</td>\n",
       "      <td>200</td>\n",
       "      <td>NaN</td>\n",
       "      <td>8934</td>\n",
       "      <td>372</td>\n",
       "      <td>NaN</td>\n",
       "      <td>NaN</td>\n",
       "      <td>...</td>\n",
       "      <td>NaN</td>\n",
       "      <td>NaN</td>\n",
       "      <td>32.9</td>\n",
       "      <td>10.3</td>\n",
       "      <td>NaN</td>\n",
       "      <td>NaN</td>\n",
       "      <td>(X)</td>\n",
       "      <td>(X)</td>\n",
       "      <td>(X)</td>\n",
       "      <td>(X)</td>\n",
       "    </tr>\n",
       "  </tbody>\n",
       "</table>\n",
       "<p>5 rows × 1146 columns</p>\n",
       "</div>"
      ],
      "text/plain": [
       "        Geography Geographic Area Name  \\\n",
       "0  860Z200US00601          ZCTA5 00601   \n",
       "1  860Z200US00602          ZCTA5 00602   \n",
       "2  860Z200US00603          ZCTA5 00603   \n",
       "3  860Z200US00606          ZCTA5 00606   \n",
       "4  860Z200US00610          ZCTA5 00610   \n",
       "\n",
       "   Estimate!!HOUSING OCCUPANCY!!Total housing units  \\\n",
       "0                                              7306   \n",
       "1                                             17311   \n",
       "2                                             24771   \n",
       "3                                              2786   \n",
       "4                                             12494   \n",
       "\n",
       "   Annotation of Estimate!!HOUSING OCCUPANCY!!Total housing units  \\\n",
       "0                                                NaN                \n",
       "1                                                NaN                \n",
       "2                                                NaN                \n",
       "3                                                NaN                \n",
       "4                                                NaN                \n",
       "\n",
       "   Margin of Error!!HOUSING OCCUPANCY!!Total housing units  \\\n",
       "0                                                187         \n",
       "1                                                287         \n",
       "2                                                389         \n",
       "3                                                145         \n",
       "4                                                200         \n",
       "\n",
       "   Annotation of Margin of Error!!HOUSING OCCUPANCY!!Total housing units  \\\n",
       "0                                                NaN                       \n",
       "1                                                NaN                       \n",
       "2                                                NaN                       \n",
       "3                                                NaN                       \n",
       "4                                                NaN                       \n",
       "\n",
       "   Estimate!!HOUSING OCCUPANCY!!Total housing units!!Occupied housing units  \\\n",
       "0                                               5397                          \n",
       "1                                              12858                          \n",
       "2                                              19295                          \n",
       "3                                               1968                          \n",
       "4                                               8934                          \n",
       "\n",
       "   Margin of Error!!HOUSING OCCUPANCY!!Total housing units!!Occupied housing units  \\\n",
       "0                                                264                                 \n",
       "1                                                448                                 \n",
       "2                                                555                                 \n",
       "3                                                171                                 \n",
       "4                                                372                                 \n",
       "\n",
       "   Annotation of Margin of Error!!HOUSING OCCUPANCY!!Total housing units!!Occupied housing units  \\\n",
       "0                                                NaN                                               \n",
       "1                                                NaN                                               \n",
       "2                                                NaN                                               \n",
       "3                                                NaN                                               \n",
       "4                                                NaN                                               \n",
       "\n",
       "   Annotation of Estimate!!HOUSING OCCUPANCY!!Total housing units!!Occupied housing units  \\\n",
       "0                                                NaN                                        \n",
       "1                                                NaN                                        \n",
       "2                                                NaN                                        \n",
       "3                                                NaN                                        \n",
       "4                                                NaN                                        \n",
       "\n",
       "   ...  \\\n",
       "0  ...   \n",
       "1  ...   \n",
       "2  ...   \n",
       "3  ...   \n",
       "4  ...   \n",
       "\n",
       "   Annotation of Percent Margin of Error!!GROSS RENT AS A PERCENTAGE OF HOUSEHOLD INCOME (GRAPI)!!Occupied units paying rent (excluding units where GRAPI cannot be computed)!!30.0 to 34.9 percent  \\\n",
       "0                                                NaN                                                                                                                                                  \n",
       "1                                                NaN                                                                                                                                                  \n",
       "2                                                NaN                                                                                                                                                  \n",
       "3                                                NaN                                                                                                                                                  \n",
       "4                                                NaN                                                                                                                                                  \n",
       "\n",
       "   Annotation of Percent!!GROSS RENT AS A PERCENTAGE OF HOUSEHOLD INCOME (GRAPI)!!Occupied units paying rent (excluding units where GRAPI cannot be computed)!!30.0 to 34.9 percent  \\\n",
       "0                                                NaN                                                                                                                                  \n",
       "1                                                NaN                                                                                                                                  \n",
       "2                                                NaN                                                                                                                                  \n",
       "3                                                NaN                                                                                                                                  \n",
       "4                                                NaN                                                                                                                                  \n",
       "\n",
       "   Percent!!GROSS RENT AS A PERCENTAGE OF HOUSEHOLD INCOME (GRAPI)!!Occupied units paying rent (excluding units where GRAPI cannot be computed)!!35.0 percent or more  \\\n",
       "0                                               39.6                                                                                                                    \n",
       "1                                                 40                                                                                                                    \n",
       "2                                               34.3                                                                                                                    \n",
       "3                                               23.8                                                                                                                    \n",
       "4                                               32.9                                                                                                                    \n",
       "\n",
       "   Percent Margin of Error!!GROSS RENT AS A PERCENTAGE OF HOUSEHOLD INCOME (GRAPI)!!Occupied units paying rent (excluding units where GRAPI cannot be computed)!!35.0 percent or more  \\\n",
       "0                                               10.7                                                                                                                                    \n",
       "1                                               10.8                                                                                                                                    \n",
       "2                                                5.7                                                                                                                                    \n",
       "3                                               20.9                                                                                                                                    \n",
       "4                                               10.3                                                                                                                                    \n",
       "\n",
       "  Annotation of Percent Margin of Error!!GROSS RENT AS A PERCENTAGE OF HOUSEHOLD INCOME (GRAPI)!!Occupied units paying rent (excluding units where GRAPI cannot be computed)!!35.0 percent or more  \\\n",
       "0                                                NaN                                                                                                                                                 \n",
       "1                                                NaN                                                                                                                                                 \n",
       "2                                                NaN                                                                                                                                                 \n",
       "3                                                NaN                                                                                                                                                 \n",
       "4                                                NaN                                                                                                                                                 \n",
       "\n",
       "  Annotation of Percent!!GROSS RENT AS A PERCENTAGE OF HOUSEHOLD INCOME (GRAPI)!!Occupied units paying rent (excluding units where GRAPI cannot be computed)!!35.0 percent or more  \\\n",
       "0                                                NaN                                                                                                                                 \n",
       "1                                                NaN                                                                                                                                 \n",
       "2                                                NaN                                                                                                                                 \n",
       "3                                                NaN                                                                                                                                 \n",
       "4                                                NaN                                                                                                                                 \n",
       "\n",
       "  Percent!!GROSS RENT AS A PERCENTAGE OF HOUSEHOLD INCOME (GRAPI)!!Occupied units paying rent (excluding units where GRAPI cannot be computed)!!Not computed  \\\n",
       "0                                                (X)                                                                                                           \n",
       "1                                                (X)                                                                                                           \n",
       "2                                                (X)                                                                                                           \n",
       "3                                                (X)                                                                                                           \n",
       "4                                                (X)                                                                                                           \n",
       "\n",
       "  Percent Margin of Error!!GROSS RENT AS A PERCENTAGE OF HOUSEHOLD INCOME (GRAPI)!!Occupied units paying rent (excluding units where GRAPI cannot be computed)!!Not computed  \\\n",
       "0                                                (X)                                                                                                                           \n",
       "1                                                (X)                                                                                                                           \n",
       "2                                                (X)                                                                                                                           \n",
       "3                                                (X)                                                                                                                           \n",
       "4                                                (X)                                                                                                                           \n",
       "\n",
       "  Annotation of Percent Margin of Error!!GROSS RENT AS A PERCENTAGE OF HOUSEHOLD INCOME (GRAPI)!!Occupied units paying rent (excluding units where GRAPI cannot be computed)!!Not computed  \\\n",
       "0                                                (X)                                                                                                                                         \n",
       "1                                                (X)                                                                                                                                         \n",
       "2                                                (X)                                                                                                                                         \n",
       "3                                                (X)                                                                                                                                         \n",
       "4                                                (X)                                                                                                                                         \n",
       "\n",
       "  Annotation of Percent!!GROSS RENT AS A PERCENTAGE OF HOUSEHOLD INCOME (GRAPI)!!Occupied units paying rent (excluding units where GRAPI cannot be computed)!!Not computed  \n",
       "0                                                (X)                                                                                                                        \n",
       "1                                                (X)                                                                                                                        \n",
       "2                                                (X)                                                                                                                        \n",
       "3                                                (X)                                                                                                                        \n",
       "4                                                (X)                                                                                                                        \n",
       "\n",
       "[5 rows x 1146 columns]"
      ]
     },
     "execution_count": 101,
     "metadata": {},
     "output_type": "execute_result"
    }
   ],
   "source": [
    "df.head()"
   ]
  },
  {
   "cell_type": "code",
   "execution_count": 102,
   "metadata": {},
   "outputs": [],
   "source": [
    "df2 = df[[\"Geographic Area Name\", \"Estimate!!HOUSING OCCUPANCY!!Total housing units\", \"Estimate!!HOUSING OCCUPANCY!!Total housing units!!Occupied housing units\", \"Estimate!!HOUSING TENURE!!Occupied housing units!!Owner-occupied\", \"Estimate!!HOUSING TENURE!!Occupied housing units!!Renter-occupied\", \"Estimate!!VALUE!!Owner-occupied units!!Median (dollars)\", \"Estimate!!GROSS RENT!!Occupied units paying rent!!Median (dollars)\"]]"
   ]
  },
  {
   "cell_type": "code",
   "execution_count": 103,
   "metadata": {},
   "outputs": [],
   "source": [
    "df3 = df2.rename(columns={'Geographic Area Name':'zipcode', 'Estimate!!HOUSING OCCUPANCY!!Total housing units':'total_house_units', 'Estimate!!HOUSING OCCUPANCY!!Total housing units!!Occupied housing units':'occupied_house_units', 'Estimate!!HOUSING TENURE!!Occupied housing units!!Owner-occupied':'owner_occupied_units', 'Estimate!!HOUSING TENURE!!Occupied housing units!!Renter-occupied':'renter_occupied_units', 'Estimate!!VALUE!!Owner-occupied units!!Median (dollars)':'median_home_value', 'Estimate!!GROSS RENT!!Occupied units paying rent!!Median (dollars)':'median_rent_value'})"
   ]
  },
  {
   "cell_type": "code",
   "execution_count": 104,
   "metadata": {},
   "outputs": [],
   "source": [
    "df3['zipcode'] = df3['zipcode'].str.removeprefix('ZCTA5 ')"
   ]
  },
  {
   "cell_type": "code",
   "execution_count": 106,
   "metadata": {},
   "outputs": [],
   "source": [
    "df3['median_rent_value'] = df3['median_rent_value'].str.rstrip('\\\\N+')"
   ]
  },
  {
   "cell_type": "code",
   "execution_count": 107,
   "metadata": {},
   "outputs": [],
   "source": [
    "df3['median_home_value'] = df3['median_home_value'].str.rstrip('\\\\N+')"
   ]
  },
  {
   "cell_type": "code",
   "execution_count": 109,
   "metadata": {},
   "outputs": [],
   "source": [
    "df3['median_rent_value'] = df3['median_rent_value'].str.replace(',' , '')"
   ]
  },
  {
   "cell_type": "code",
   "execution_count": 110,
   "metadata": {},
   "outputs": [],
   "source": [
    "df3['median_home_value'] = df3['median_home_value'].str.replace(',' , '')"
   ]
  },
  {
   "cell_type": "code",
   "execution_count": 111,
   "metadata": {},
   "outputs": [
    {
     "data": {
      "text/html": [
       "<div>\n",
       "<style scoped>\n",
       "    .dataframe tbody tr th:only-of-type {\n",
       "        vertical-align: middle;\n",
       "    }\n",
       "\n",
       "    .dataframe tbody tr th {\n",
       "        vertical-align: top;\n",
       "    }\n",
       "\n",
       "    .dataframe thead th {\n",
       "        text-align: right;\n",
       "    }\n",
       "</style>\n",
       "<table border=\"1\" class=\"dataframe\">\n",
       "  <thead>\n",
       "    <tr style=\"text-align: right;\">\n",
       "      <th></th>\n",
       "      <th>zipcode</th>\n",
       "      <th>total_house_units</th>\n",
       "      <th>occupied_house_units</th>\n",
       "      <th>owner_occupied_units</th>\n",
       "      <th>renter_occupied_units</th>\n",
       "      <th>median_home_value</th>\n",
       "      <th>median_rent_value</th>\n",
       "    </tr>\n",
       "  </thead>\n",
       "  <tbody>\n",
       "    <tr>\n",
       "      <th>0</th>\n",
       "      <td>00601</td>\n",
       "      <td>7306</td>\n",
       "      <td>5397</td>\n",
       "      <td>3553</td>\n",
       "      <td>1844</td>\n",
       "      <td>78800</td>\n",
       "      <td>377</td>\n",
       "    </tr>\n",
       "    <tr>\n",
       "      <th>1</th>\n",
       "      <td>00602</td>\n",
       "      <td>17311</td>\n",
       "      <td>12858</td>\n",
       "      <td>9782</td>\n",
       "      <td>3076</td>\n",
       "      <td>88500</td>\n",
       "      <td>414</td>\n",
       "    </tr>\n",
       "    <tr>\n",
       "      <th>2</th>\n",
       "      <td>00603</td>\n",
       "      <td>24771</td>\n",
       "      <td>19295</td>\n",
       "      <td>11254</td>\n",
       "      <td>8041</td>\n",
       "      <td>121600</td>\n",
       "      <td>409</td>\n",
       "    </tr>\n",
       "    <tr>\n",
       "      <th>3</th>\n",
       "      <td>00606</td>\n",
       "      <td>2786</td>\n",
       "      <td>1968</td>\n",
       "      <td>1440</td>\n",
       "      <td>528</td>\n",
       "      <td>96500</td>\n",
       "      <td>350</td>\n",
       "    </tr>\n",
       "    <tr>\n",
       "      <th>4</th>\n",
       "      <td>00610</td>\n",
       "      <td>12494</td>\n",
       "      <td>8934</td>\n",
       "      <td>6452</td>\n",
       "      <td>2482</td>\n",
       "      <td>89900</td>\n",
       "      <td>478</td>\n",
       "    </tr>\n",
       "    <tr>\n",
       "      <th>...</th>\n",
       "      <td>...</td>\n",
       "      <td>...</td>\n",
       "      <td>...</td>\n",
       "      <td>...</td>\n",
       "      <td>...</td>\n",
       "      <td>...</td>\n",
       "      <td>...</td>\n",
       "    </tr>\n",
       "    <tr>\n",
       "      <th>33769</th>\n",
       "      <td>99923</td>\n",
       "      <td>64</td>\n",
       "      <td>13</td>\n",
       "      <td>13</td>\n",
       "      <td>0</td>\n",
       "      <td>-</td>\n",
       "      <td>-</td>\n",
       "    </tr>\n",
       "    <tr>\n",
       "      <th>33770</th>\n",
       "      <td>99925</td>\n",
       "      <td>436</td>\n",
       "      <td>345</td>\n",
       "      <td>253</td>\n",
       "      <td>92</td>\n",
       "      <td>238000</td>\n",
       "      <td>794</td>\n",
       "    </tr>\n",
       "    <tr>\n",
       "      <th>33771</th>\n",
       "      <td>99926</td>\n",
       "      <td>503</td>\n",
       "      <td>457</td>\n",
       "      <td>368</td>\n",
       "      <td>89</td>\n",
       "      <td>155600</td>\n",
       "      <td>600</td>\n",
       "    </tr>\n",
       "    <tr>\n",
       "      <th>33772</th>\n",
       "      <td>99927</td>\n",
       "      <td>39</td>\n",
       "      <td>11</td>\n",
       "      <td>11</td>\n",
       "      <td>0</td>\n",
       "      <td>-</td>\n",
       "      <td>-</td>\n",
       "    </tr>\n",
       "    <tr>\n",
       "      <th>33773</th>\n",
       "      <td>99929</td>\n",
       "      <td>1246</td>\n",
       "      <td>841</td>\n",
       "      <td>541</td>\n",
       "      <td>300</td>\n",
       "      <td>231100</td>\n",
       "      <td>938</td>\n",
       "    </tr>\n",
       "  </tbody>\n",
       "</table>\n",
       "<p>33774 rows × 7 columns</p>\n",
       "</div>"
      ],
      "text/plain": [
       "      zipcode  total_house_units  occupied_house_units  owner_occupied_units  \\\n",
       "0       00601               7306                  5397                  3553   \n",
       "1       00602              17311                 12858                  9782   \n",
       "2       00603              24771                 19295                 11254   \n",
       "3       00606               2786                  1968                  1440   \n",
       "4       00610              12494                  8934                  6452   \n",
       "...       ...                ...                   ...                   ...   \n",
       "33769   99923                 64                    13                    13   \n",
       "33770   99925                436                   345                   253   \n",
       "33771   99926                503                   457                   368   \n",
       "33772   99927                 39                    11                    11   \n",
       "33773   99929               1246                   841                   541   \n",
       "\n",
       "       renter_occupied_units median_home_value median_rent_value  \n",
       "0                       1844             78800               377  \n",
       "1                       3076             88500               414  \n",
       "2                       8041            121600               409  \n",
       "3                        528             96500               350  \n",
       "4                       2482             89900               478  \n",
       "...                      ...               ...               ...  \n",
       "33769                      0                 -                 -  \n",
       "33770                     92            238000               794  \n",
       "33771                     89            155600               600  \n",
       "33772                      0                 -                 -  \n",
       "33773                    300            231100               938  \n",
       "\n",
       "[33774 rows x 7 columns]"
      ]
     },
     "execution_count": 111,
     "metadata": {},
     "output_type": "execute_result"
    }
   ],
   "source": [
    "df3"
   ]
  },
  {
   "cell_type": "code",
   "execution_count": 88,
   "metadata": {},
   "outputs": [
    {
     "data": {
      "text/plain": [
       "<bound method NDFrame.describe of 0         7306\n",
       "1        17311\n",
       "2        24771\n",
       "3         2786\n",
       "4        12494\n",
       "         ...  \n",
       "33769       64\n",
       "33770      436\n",
       "33771      503\n",
       "33772       39\n",
       "33773     1246\n",
       "Name: total_house_units, Length: 33774, dtype: int64>"
      ]
     },
     "execution_count": 88,
     "metadata": {},
     "output_type": "execute_result"
    }
   ],
   "source": [
    "df3['total_house_units'].describe"
   ]
  },
  {
   "cell_type": "code",
   "execution_count": 89,
   "metadata": {},
   "outputs": [
    {
     "data": {
      "text/plain": [
       "count    33774.000000\n",
       "mean      3707.204654\n",
       "std       5469.194574\n",
       "min          0.000000\n",
       "25%        240.000000\n",
       "50%       1002.500000\n",
       "75%       5032.000000\n",
       "max      41418.000000\n",
       "Name: occupied_house_units, dtype: float64"
      ]
     },
     "execution_count": 89,
     "metadata": {},
     "output_type": "execute_result"
    }
   ],
   "source": [
    "df3['occupied_house_units'].describe()"
   ]
  },
  {
   "cell_type": "code",
   "execution_count": 90,
   "metadata": {},
   "outputs": [
    {
     "data": {
      "text/plain": [
       "count    33774.000000\n",
       "mean      2397.285101\n",
       "std       3407.183878\n",
       "min          0.000000\n",
       "25%        186.000000\n",
       "50%        765.000000\n",
       "75%       3336.500000\n",
       "max      29747.000000\n",
       "Name: owner_occupied_units, dtype: float64"
      ]
     },
     "execution_count": 90,
     "metadata": {},
     "output_type": "execute_result"
    }
   ],
   "source": [
    "df3['owner_occupied_units'].describe()"
   ]
  },
  {
   "cell_type": "code",
   "execution_count": 112,
   "metadata": {},
   "outputs": [],
   "source": [
    "df3['median_home_value'] = df3['median_home_value'].str.replace('-', '\\\\N', regex=True)"
   ]
  },
  {
   "cell_type": "code",
   "execution_count": 113,
   "metadata": {},
   "outputs": [],
   "source": [
    "df3['median_rent_value'] = df3['median_rent_value'].str.replace('-', '\\\\N', regex=True)"
   ]
  },
  {
   "cell_type": "code",
   "execution_count": 114,
   "metadata": {},
   "outputs": [
    {
     "data": {
      "text/plain": [
       "count     33774\n",
       "unique     6086\n",
       "top          \\N\n",
       "freq       3345\n",
       "Name: median_home_value, dtype: object"
      ]
     },
     "execution_count": 114,
     "metadata": {},
     "output_type": "execute_result"
    }
   ],
   "source": [
    "df3['median_home_value'].describe()"
   ]
  },
  {
   "cell_type": "code",
   "execution_count": 94,
   "metadata": {},
   "outputs": [
    {
     "data": {
      "text/plain": [
       "count     33774\n",
       "unique     2264\n",
       "top          \\N\n",
       "freq       7434\n",
       "Name: median_rent_value, dtype: object"
      ]
     },
     "execution_count": 94,
     "metadata": {},
     "output_type": "execute_result"
    }
   ],
   "source": [
    "df3['median_rent_value'].describe()"
   ]
  },
  {
   "cell_type": "code",
   "execution_count": 115,
   "metadata": {},
   "outputs": [],
   "source": [
    "df3.to_csv('preprocessed_housing.csv', index=False)"
   ]
  },
  {
   "cell_type": "code",
   "execution_count": null,
   "metadata": {},
   "outputs": [],
   "source": []
  }
 ],
 "metadata": {
  "kernelspec": {
   "display_name": "Python 3",
   "language": "python",
   "name": "python3"
  },
  "language_info": {
   "codemirror_mode": {
    "name": "ipython",
    "version": 3
   },
   "file_extension": ".py",
   "mimetype": "text/x-python",
   "name": "python",
   "nbconvert_exporter": "python",
   "pygments_lexer": "ipython3",
   "version": "3.8.5"
  }
 },
 "nbformat": 4,
 "nbformat_minor": 5
}
